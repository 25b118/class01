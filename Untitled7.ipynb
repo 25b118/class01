{
  "nbformat": 4,
  "nbformat_minor": 0,
  "metadata": {
    "colab": {
      "provenance": [],
      "authorship_tag": "ABX9TyO2zpoEYs8a8pVQccK0wtE1",
      "include_colab_link": true
    },
    "kernelspec": {
      "name": "python3",
      "display_name": "Python 3"
    },
    "language_info": {
      "name": "python"
    }
  },
  "cells": [
    {
      "cell_type": "markdown",
      "metadata": {
        "id": "view-in-github",
        "colab_type": "text"
      },
      "source": [
        "<a href=\"https://colab.research.google.com/github/25b118/class01/blob/main/Untitled7.ipynb\" target=\"_parent\"><img src=\"https://colab.research.google.com/assets/colab-badge.svg\" alt=\"Open In Colab\"/></a>"
      ]
    },
    {
      "cell_type": "code",
      "execution_count": null,
      "metadata": {
        "colab": {
          "base_uri": "https://localhost:8080/"
        },
        "id": "LvSG_WNqYC1N",
        "outputId": "788f6797-ad67-425c-fa1b-6c756b1487a2"
      },
      "outputs": [
        {
          "output_type": "stream",
          "name": "stdout",
          "text": [
            "🧮 더하기/빼기 계산기 게임을 시작합니다! (총 10문제)\n",
            "\n"
          ]
        }
      ],
      "source": [
        "import random\n",
        "\n",
        "def calculator_game():\n",
        "    print(\"🧮 더하기/빼기 계산기 게임을 시작합니다! (총 10문제)\\n\")\n",
        "\n",
        "    score = 0\n",
        "    total_questions = 10\n",
        "\n",
        "    for i in range(1, total_questions + 1):\n",
        "        num1 = random.randint(1, 50)\n",
        "        num2 = random.randint(1, 50)\n",
        "        operator = random.choice(['+', '-'])\n",
        "\n",
        "        # 정답 계산\n",
        "        if operator == '+':\n",
        "            correct_answer = num1 + num2\n",
        "        else:\n",
        "            correct_answer = num1 - num2\n",
        "\n",
        "        # 문제 출력 및 사용자 입력\n",
        "        try:\n",
        "            user_input = int(input(f\"문제 {i}: {num1} {operator} {num2} = \"))\n",
        "            if user_input == correct_answer:\n",
        "                print(\"✅ 정답입니다!\\n\")\n",
        "                score += 1\n",
        "            else:\n",
        "                print(f\"❌ 틀렸습니다. 정답은 {correct_answer}입니다.\\n\")\n",
        "        except ValueError:\n",
        "            print(\"⚠️ 숫자만 입력하세요. 이 문제는 틀린 것으로 처리됩니다.\\n\")\n",
        "\n",
        "    # 최종 결과 출력\n",
        "    print(f\"🎉 게임 종료! 총 {total_questions}문제 중 {score}문제 맞혔습니다.\")\n",
        "\n",
        "if __name__ == \"__main__\":\n",
        "    calculator_game()\n",
        "\n"
      ]
    }
  ]
}