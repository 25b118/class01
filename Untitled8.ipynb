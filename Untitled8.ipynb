{
  "nbformat": 4,
  "nbformat_minor": 0,
  "metadata": {
    "colab": {
      "provenance": [],
      "authorship_tag": "ABX9TyMXBjo/DT/4LSysIVN/V7ow",
      "include_colab_link": true
    },
    "kernelspec": {
      "name": "python3",
      "display_name": "Python 3"
    },
    "language_info": {
      "name": "python"
    }
  },
  "cells": [
    {
      "cell_type": "markdown",
      "metadata": {
        "id": "view-in-github",
        "colab_type": "text"
      },
      "source": [
        "<a href=\"https://colab.research.google.com/github/25b118/class01/blob/main/Untitled8.ipynb\" target=\"_parent\"><img src=\"https://colab.research.google.com/assets/colab-badge.svg\" alt=\"Open In Colab\"/></a>"
      ]
    },
    {
      "cell_type": "code",
      "source": [
        "# prompt: 로봇이 좌표에 따라 움직이는 게임을만들어줘. 첫번째로 위로 한 칸, 두번째로 오른쪽으로 한칸, 세번째로 아래로 한칸, 마지막으로 왼쪽으로 한칸 움직이는 코드를 작성해줘. 이걸 그림으로 표현해줘.  좌표를 움직일 때 마다, 그림을 새로 그려줘.\n",
        "\n",
        "import matplotlib.pyplot as plt\n",
        "import time\n",
        "from IPython.display import clear_output\n",
        "\n",
        "def plot_robot_movement(path):\n",
        "    x_coords = [p[0] for p in path]\n",
        "    y_coords = [p[1] for p in path]\n",
        "\n",
        "    clear_output(wait=True) # Clear previous plot\n",
        "    plt.figure(figsize=(5, 5))\n",
        "    plt.plot(x_coords, y_coords, marker='o', linestyle='-', color='blue')\n",
        "    plt.scatter([path[-1][0]], [path[-1][1]], color='red', s=200, label='Current Position') # Mark current position\n",
        "    plt.title(\"Robot Movement\")\n",
        "    plt.xlabel(\"X Coordinate\")\n",
        "    plt.ylabel(\"Y Coordinate\")\n",
        "    plt.grid(True)\n",
        "    plt.legend()\n",
        "    plt.xlim(min(x_coords)-1, max(x_coords)+1)\n",
        "    plt.ylim(min(y_coords)-1, max(y_coords)+1)\n",
        "    plt.gca().set_aspect('equal', adjustable='box')\n",
        "    plt.show()\n",
        "\n",
        "# Starting position\n",
        "start_x, start_y = 0, 0\n",
        "current_x, current_y = start_x, start_y\n",
        "movement_path = [(current_x, current_y)]\n",
        "\n",
        "# Initial plot\n",
        "plot_robot_movement(movement_path)\n",
        "time.sleep(1) # Pause for a moment\n",
        "\n",
        "# Move Up\n",
        "current_y += 1\n",
        "movement_path.append((current_x, current_y))\n",
        "plot_robot_movement(movement_path)\n",
        "time.sleep(1)\n",
        "\n",
        "# Move Right\n",
        "current_x += 1\n",
        "movement_path.append((current_x, current_y))\n",
        "plot_robot_movement(movement_path)\n",
        "time.sleep(1)\n",
        "\n",
        "# Move Down\n",
        "current_y -= 1\n",
        "movement_path.append((current_x, current_y))\n",
        "plot_robot_movement(movement_path)\n",
        "time.sleep(1)\n",
        "\n",
        "# Move Left\n",
        "current_x -= 1\n",
        "movement_path.append((current_x, current_y))\n",
        "plot_robot_movement(movement_path)\n"
      ],
      "metadata": {
        "id": "4Vjrw-Y2bm3B"
      },
      "execution_count": null,
      "outputs": []
    },
    {
      "cell_type": "code",
      "execution_count": null,
      "metadata": {
        "id": "_xOjBgEmY35-"
      },
      "outputs": [],
      "source": []
    }
  ]
}