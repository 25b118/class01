{
  "nbformat": 4,
  "nbformat_minor": 0,
  "metadata": {
    "colab": {
      "provenance": [],
      "authorship_tag": "ABX9TyNX4BIvYCJGnCtx5LuOwYGG",
      "include_colab_link": true
    },
    "kernelspec": {
      "name": "python3",
      "display_name": "Python 3"
    },
    "language_info": {
      "name": "python"
    }
  },
  "cells": [
    {
      "cell_type": "markdown",
      "metadata": {
        "id": "view-in-github",
        "colab_type": "text"
      },
      "source": [
        "<a href=\"https://colab.research.google.com/github/25b118/class01/blob/main/Untitled2.ipynb\" target=\"_parent\"><img src=\"https://colab.research.google.com/assets/colab-badge.svg\" alt=\"Open In Colab\"/></a>"
      ]
    },
    {
      "cell_type": "code",
      "execution_count": 4,
      "metadata": {
        "colab": {
          "base_uri": "https://localhost:8080/"
        },
        "id": "r2Q1sf8EP_hz",
        "outputId": "49abae8e-4da4-42c6-a9d0-ac70b4197009"
      },
      "outputs": [
        {
          "output_type": "stream",
          "name": "stdout",
          "text": [
            "우리 동네에 있는 편의점의 이름을 세 가지 적어 보세요.\n",
            "1. CU\n",
            "2. GS25\n",
            "3. 세븐일레븐\n",
            "\n",
            "정답은 여러분 동네에 있는 편의점에 따라 다릅니다! 직접 찾아보고 적어보세요.\n"
          ]
        }
      ],
      "source": [
        "# prompt: 초등학생이 풀수있는 사회문제를 만들어줘. 코드설명도.\n",
        "\n",
        "# 필요한 라이브러리를 임포트합니다.\n",
        "import random\n",
        "\n",
        "# 문제와 보기를 저장할 리스트를 만듭니다.\n",
        "problems = []\n",
        "\n",
        "# 문제 1: 우리 동네 놀이터에 아이들이 놀 수 있는 놀이기구가 몇 개 있을까요?\n",
        "problems.append({\n",
        "    \"question\": \"우리 동네 놀이터에 아이들이 놀 수 있는 놀이기구는 몇 개 있을까요?\",\n",
        "    \"options\": [\"1개\", \"3개\", \"5개\", \"10개\"],\n",
        "    \"answer\": \"정답은 여러분 동네 놀이터에 따라 다릅니다! 직접 세어보고, 가장 가까운 숫자를 골라보세요.\"  # 정답은 상황에 따라 다르므로 설명을 제공합니다.\n",
        "})\n",
        "\n",
        "\n",
        "# 문제 2: 우리 동네에 있는 편의점의 이름을 3가지 적어보세요.\n",
        "problems.append({\n",
        "    \"question\": \"우리 동네에 있는 편의점의 이름을 세 가지 적어 보세요.\",\n",
        "    \"options\": [\"CU\", \"GS25\", \"세븐일레븐\"],  # 보기를 제공하고, 아이들이 직접 생각해 보도록 유도\n",
        "    \"answer\": \"정답은 여러분 동네에 있는 편의점에 따라 다릅니다! 직접 찾아보고 적어보세요.\" # 정답은 상황에 따라 다르므로 설명을 제공합니다.\n",
        "})\n",
        "\n",
        "\n",
        "# 문제 3:  학교에서 가장 가까운 버스 정류장의 번호는 무엇일까요?\n",
        "problems.append({\n",
        "    \"question\": \"학교에서 가장 가까운 버스 정류장의 번호는 무엇일까요?\",\n",
        "    \"options\": [\"100번\", \"200번\", \"300번\", \"400번\"],\n",
        "    \"answer\": \"정답은 여러분 학교 근처의 버스 정류장에 따라 다릅니다! 직접 확인해보세요.\" # 정답은 상황에 따라 다르므로 설명을 제공합니다.\n",
        "})\n",
        "\n",
        "\n",
        "# 랜덤하게 문제를 출력합니다.\n",
        "random_problem = random.choice(problems)\n",
        "\n",
        "print(random_problem[\"question\"])\n",
        "for i, option in enumerate(random_problem[\"options\"]):\n",
        "    print(f\"{i + 1}. {option}\")\n",
        "print(\"\\n\" + random_problem[\"answer\"]) # 힌트나 정답 설명 제공\n"
      ]
    }
  ]
}