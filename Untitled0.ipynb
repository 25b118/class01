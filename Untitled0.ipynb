{
  "nbformat": 4,
  "nbformat_minor": 0,
  "metadata": {
    "colab": {
      "provenance": [],
      "authorship_tag": "ABX9TyOgPW5ePxjCD83j6QsjBrdf",
      "include_colab_link": true
    },
    "kernelspec": {
      "name": "python3",
      "display_name": "Python 3"
    },
    "language_info": {
      "name": "python"
    }
  },
  "cells": [
    {
      "cell_type": "markdown",
      "metadata": {
        "id": "view-in-github",
        "colab_type": "text"
      },
      "source": [
        "<a href=\"https://colab.research.google.com/github/25b118/class01/blob/main/Untitled0.ipynb\" target=\"_parent\"><img src=\"https://colab.research.google.com/assets/colab-badge.svg\" alt=\"Open In Colab\"/></a>"
      ]
    },
    {
      "cell_type": "code",
      "execution_count": 9,
      "metadata": {
        "colab": {
          "base_uri": "https://localhost:8080/"
        },
        "id": "Yg2Sm08gW0z_",
        "outputId": "1ef6b53b-a769-4219-f3bc-9d1fe88a40d7"
      },
      "outputs": [
        {
          "output_type": "stream",
          "name": "stdout",
          "text": [
            "덧셈 게임을 시작합니다! 1부터 9까지의 숫자를 더해볼까요?\n",
            "9 + 7 = ? 16\n",
            "정답입니다! 🎉\n",
            "다시 게임을 할까요? (네/아니오): 네\n",
            "7 + 5 = ? 12\n",
            "정답입니다! 🎉\n",
            "다시 게임을 할까요? (네/아니오): 네\n",
            "3 + 6 = ? 9\n",
            "정답입니다! 🎉\n",
            "다시 게임을 할까요? (네/아니오): 네\n",
            "7 + 2 = ? 9\n",
            "정답입니다! 🎉\n",
            "다시 게임을 할까요? (네/아니오): 네\n",
            "4 + 5 = ? 9\n",
            "정답입니다! 🎉\n",
            "다시 게임을 할까요? (네/아니오): 네\n",
            "5 + 2 = ? 7\n",
            "정답입니다! 🎉\n",
            "다시 게임을 할까요? (네/아니오): 아니요\n",
            "게임을 종료합니다. 수고했어요!\n"
          ]
        }
      ],
      "source": [
        "# prompt: 초등학교 1학년이 풀수있는 덧샘 게임을만들어줘. 그리고 꼭 10문제를 풀면 '모두맞추셨습니다라' 말해줘.\n",
        "\n",
        "\n",
        "import random\n",
        "\n",
        "def 초등학교1학년덧셈게임():\n",
        "  \"\"\"초등학교 1학년을 위한 덧셈 게임입니다.\"\"\"\n",
        "\n",
        "  print(\"덧셈 게임을 시작합니다! 1부터 9까지의 숫자를 더해볼까요?\")\n",
        "\n",
        "  while True:\n",
        "    num1 = random.randint(1, 9)\n",
        "    num2 = random.randint(1, 9)\n",
        "    correct_answer = num1 + num2\n",
        "\n",
        "    user_answer = input(f\"{num1} + {num2} = ? \")\n",
        "\n",
        "    try:\n",
        "        user_answer = int(user_answer)\n",
        "        if user_answer == correct_answer:\n",
        "            print(\"정답입니다! 🎉\")\n",
        "        else:\n",
        "            print(f\"아쉽지만 틀렸어요. 정답은 {correct_answer}입니다. 😭\")\n",
        "    except ValueError:\n",
        "        print(\"숫자를 입력해주세요.\")\n",
        "\n",
        "    play_again = input(\"다시 게임을 할까요? (네/아니오): \")\n",
        "    if play_again.lower() != \"네\":\n",
        "        print(\"게임을 종료합니다. 수고했어요!\")\n",
        "        break\n",
        "\n",
        "초등학교1학년덧셈게임()\n"
      ]
    }
  ]
}