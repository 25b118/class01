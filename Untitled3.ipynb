{
  "nbformat": 4,
  "nbformat_minor": 0,
  "metadata": {
    "colab": {
      "provenance": [],
      "authorship_tag": "ABX9TyPc5IBTeFxf5e2zhw9jWg0u",
      "include_colab_link": true
    },
    "kernelspec": {
      "name": "python3",
      "display_name": "Python 3"
    },
    "language_info": {
      "name": "python"
    }
  },
  "cells": [
    {
      "cell_type": "markdown",
      "metadata": {
        "id": "view-in-github",
        "colab_type": "text"
      },
      "source": [
        "<a href=\"https://colab.research.google.com/github/25b118/class01/blob/main/Untitled3.ipynb\" target=\"_parent\"><img src=\"https://colab.research.google.com/assets/colab-badge.svg\" alt=\"Open In Colab\"/></a>"
      ]
    },
    {
      "cell_type": "code",
      "execution_count": null,
      "metadata": {
        "colab": {
          "base_uri": "https://localhost:8080/"
        },
        "id": "3D2NFDVaRCBJ",
        "outputId": "518e4579-7346-4211-afd3-55bc2e8fc5e8"
      },
      "outputs": [
        {
          "output_type": "stream",
          "name": "stdout",
          "text": [
            "구구단 게임을 시작합니다! 🎉\n",
            "3 x 4 = ? 12\n",
            "정답! 👍\n"
          ]
        }
      ],
      "source": [
        "# prompt: 초등학생이 풀수있는 구구단 게임을 만들어줘.\n",
        "\n",
        "import random\n",
        "\n",
        "def gugudan_game():\n",
        "  print(\"구구단 게임을 시작합니다! 🎉\")\n",
        "\n",
        "  while True:\n",
        "    dan = random.randint(2, 9)\n",
        "    num = random.randint(1, 9)\n",
        "\n",
        "    answer = int(input(f\"{dan} x {num} = ? \"))\n",
        "\n",
        "    if answer == dan * num:\n",
        "      print(\"정답! 👍\")\n",
        "    else:\n",
        "      print(f\"땡! 틀렸어요. 정답은 {dan * num}입니다. 😭\")\n",
        "\n",
        "    play_again = input(\"계속할까요? (네/아니오): \")\n",
        "    if play_again.lower() != \"네\":\n",
        "      print(\"구구단 게임을 종료합니다. 수고했어요! 😊\")\n",
        "      break\n",
        "\n",
        "gugudan_game()\n"
      ]
    }
  ]
}